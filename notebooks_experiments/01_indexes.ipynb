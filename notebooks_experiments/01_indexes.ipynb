{
 "cells": [
  {
   "cell_type": "code",
   "execution_count": 1,
   "metadata": {},
   "outputs": [],
   "source": [
    "import numpy as np\n",
    "import os\n",
    "import time\n",
    "from concurrent.futures import ProcessPoolExecutor\n",
    "from typing import List, NoReturn\n",
    "\n",
    "import h5py\n",
    "import librosa\n",
    "import musdb\n",
    "from tqdm import tqdm\n"
   ]
  },
  {
   "cell_type": "code",
   "execution_count": 2,
   "metadata": {},
   "outputs": [],
   "source": [
    "def float32_to_int16(x: np.float32) -> np.int16:\n",
    "\n",
    "    x = np.clip(x, a_min=-1, a_max=1)\n",
    "\n",
    "    return (x * 32767.0).astype(np.int16)"
   ]
  },
  {
   "cell_type": "code",
   "execution_count": 3,
   "metadata": {},
   "outputs": [],
   "source": [
    "def preprocess_audio(\n",
    "    audio: np.array, mono: bool, origin_sr: float, sr: float, resample_type: str\n",
    ") -> np.array:\n",
    "    r\"\"\"Preprocess audio to mono / stereo, and resample.\n",
    "\n",
    "    Args:\n",
    "        audio: (channels_num, audio_samples), input audio\n",
    "        mono: bool\n",
    "        origin_sr: float, original sample rate\n",
    "        sr: float, target sample rate\n",
    "        resample_type: str, e.g., 'kaiser_fast'\n",
    "\n",
    "    Returns:\n",
    "        output: ndarray, output audio\n",
    "    \"\"\"\n",
    "    if mono:\n",
    "        audio = np.mean(audio, axis=0)\n",
    "        # (audio_samples,)\n",
    "\n",
    "    output = librosa.core.resample(\n",
    "        audio, orig_sr=origin_sr, target_sr=sr, res_type=resample_type\n",
    "    )\n",
    "    # (audio_samples,) | (channels_num, audio_samples)\n",
    "\n",
    "    if output.ndim == 1:\n",
    "        output = output[None, :]\n",
    "        # (1, audio_samples,)\n",
    "\n",
    "    return output"
   ]
  },
  {
   "cell_type": "code",
   "execution_count": 4,
   "metadata": {},
   "outputs": [],
   "source": [
    "def write_single_audio_to_hdf5(param: List) -> NoReturn:\n",
    "    r\"\"\"Write single audio into hdf5 file.\"\"\"\n",
    "    (\n",
    "        dataset_dir,\n",
    "        subset,\n",
    "        split,\n",
    "        track_index,\n",
    "        source_types,\n",
    "        mono,\n",
    "        sample_rate,\n",
    "        resample_type,\n",
    "        hdf5s_dir,\n",
    "    ) = param\n",
    "\n",
    "    # Dataset of corresponding subset and split.\n",
    "    mus = musdb.DB(root=dataset_dir, subsets=[subset], split=split)\n",
    "    track = mus.tracks[track_index]\n",
    "\n",
    "    # Path to write out hdf5 file.\n",
    "    hdf5_path = os.path.join(hdf5s_dir, \"{}.h5\".format(track.name))\n",
    "\n",
    "    with h5py.File(hdf5_path, \"w\") as hf:\n",
    "\n",
    "        hf.attrs.create(\"audio_name\", data=track.name.encode(), dtype=\"S100\")\n",
    "        hf.attrs.create(\"sample_rate\", data=sample_rate, dtype=np.int32)\n",
    "\n",
    "        for source_type in source_types:\n",
    "\n",
    "            audio = track.targets[source_type].audio.T\n",
    "            # (channels_num, audio_samples)\n",
    "\n",
    "            # Preprocess audio to mono / stereo, and resample.\n",
    "            audio = preprocess_audio(\n",
    "                audio, mono, track.rate, sample_rate, resample_type\n",
    "            )\n",
    "            # (channels_num, audio_samples) | (audio_samples,)\n",
    "\n",
    "            hf.create_dataset(\n",
    "                name=source_type, data=float32_to_int16(audio), dtype=np.int16\n",
    "            )\n",
    "\n",
    "        # Mixture\n",
    "        audio = track.audio.T\n",
    "        # (channels_num, audio_samples)\n",
    "\n",
    "        # Preprocess audio to mono / stereo, and resample.\n",
    "        audio = preprocess_audio(audio, mono, track.rate, sample_rate, resample_type)\n",
    "        # (channels_num, audio_samples)\n",
    "\n",
    "        hf.create_dataset(name=\"mixture\", data=float32_to_int16(audio), dtype=np.int16)\n",
    "\n",
    "    print(\"{} Write to {}, {}\".format(track_index, hdf5_path, audio.shape))"
   ]
  },
  {
   "cell_type": "code",
   "execution_count": 5,
   "metadata": {},
   "outputs": [],
   "source": [
    "SOURCE_TYPES = [\"vocals\", \"drums\", \"bass\", \"other\", \"accompaniment\"]"
   ]
  },
  {
   "cell_type": "code",
   "execution_count": 6,
   "metadata": {},
   "outputs": [
    {
     "name": "stdout",
     "output_type": "stream",
     "text": [
      "Subset: train, Split: , Total pieces: 100\n"
     ]
    },
    {
     "name": "stderr",
     "output_type": "stream",
     "text": [
      "  0%|          | 0/100 [00:00<?, ?it/s]"
     ]
    },
    {
     "name": "stdout",
     "output_type": "stream",
     "text": [
      "14 Write to hdf5s/musdb18/sr=44100,chn=2/train/BigTroubles - Phantom.h5, (2, 6471680)\n",
      "5 Write to hdf5s/musdb18/sr=44100,chn=2/train/Actions - One Minute Smile.h5, (2, 7204864)\n",
      "0 Write to hdf5s/musdb18/sr=44100,chn=2/train/A Classic Education - NightOwl.h5, (2, 7552000)\n"
     ]
    },
    {
     "name": "stderr",
     "output_type": "stream",
     "text": [
      "  1%|          | 1/100 [00:37<1:01:13, 37.11s/it]"
     ]
    },
    {
     "name": "stdout",
     "output_type": "stream",
     "text": [
      "3 Write to hdf5s/musdb18/sr=44100,chn=2/train/ANiMAL - Rockshow.h5, (2, 7299072)\n",
      "6 Write to hdf5s/musdb18/sr=44100,chn=2/train/Actions - South Of The Water.h5, (2, 7788544)\n",
      "4 Write to hdf5s/musdb18/sr=44100,chn=2/train/Actions - Devil's Words.h5, (2, 8671232)\n",
      "7 Write to hdf5s/musdb18/sr=44100,chn=2/train/Aimee Norwich - Child.h5, (2, 8338432)\n",
      "2 Write to hdf5s/musdb18/sr=44100,chn=2/train/ANiMAL - Easy Tiger.h5, (2, 9061376)\n",
      "12 Write to hdf5s/musdb18/sr=44100,chn=2/train/Auctioneer - Our Future Faces.h5, (2, 9159680)\n",
      "10 Write to hdf5s/musdb18/sr=44100,chn=2/train/Angela Thomas Wade - Milk Cow Blues.h5, (2, 9300992)\n",
      "1 Write to hdf5s/musdb18/sr=44100,chn=2/train/ANiMAL - Clinic A.h5, (2, 10489856)\n"
     ]
    },
    {
     "name": "stderr",
     "output_type": "stream",
     "text": [
      "  2%|▏         | 2/100 [00:43<30:37, 18.75s/it]  "
     ]
    },
    {
     "name": "stdout",
     "output_type": "stream",
     "text": [
      "15 Write to hdf5s/musdb18/sr=44100,chn=2/train/Bill Chudziak - Children Of No-one.h5, (2, 10175488)\n",
      "13 Write to hdf5s/musdb18/sr=44100,chn=2/train/AvaLuna - Waterduct.h5, (2, 11426816)\n",
      "11 Write to hdf5s/musdb18/sr=44100,chn=2/train/Atlantis Bound - It Was My Fault For Waiting.h5, (2, 11821056)\n",
      "8 Write to hdf5s/musdb18/sr=44100,chn=2/train/Alexander Ross - Goodbye Bolero.h5, (2, 18461696)\n"
     ]
    },
    {
     "name": "stderr",
     "output_type": "stream",
     "text": [
      "  9%|▉         | 9/100 [00:52<05:52,  3.88s/it]"
     ]
    },
    {
     "name": "stdout",
     "output_type": "stream",
     "text": [
      "9 Write to hdf5s/musdb18/sr=44100,chn=2/train/Alexander Ross - Velvet Curtain.h5, (2, 22680576)\n"
     ]
    },
    {
     "name": "stderr",
     "output_type": "stream",
     "text": [
      " 10%|█         | 10/100 [00:55<05:43,  3.82s/it]"
     ]
    },
    {
     "name": "stdout",
     "output_type": "stream",
     "text": [
      "19 Write to hdf5s/musdb18/sr=44100,chn=2/train/Clara Berry And Wooldog - Air Traffic.h5, (2, 7641088)\n",
      "20 Write to hdf5s/musdb18/sr=44100,chn=2/train/Clara Berry And Wooldog - Stella.h5, (2, 8624128)\n",
      "17 Write to hdf5s/musdb18/sr=44100,chn=2/train/Celestial Shore - Die For Us.h5, (2, 12280832)\n",
      "21 Write to hdf5s/musdb18/sr=44100,chn=2/train/Clara Berry And Wooldog - Waltz For My Victims.h5, (2, 7728128)\n",
      "28 Write to hdf5s/musdb18/sr=44100,chn=2/train/Fergessen - Back From The Start.h5, (2, 7433216)\n",
      "18 Write to hdf5s/musdb18/sr=44100,chn=2/train/Chris Durban - Celebrate.h5, (2, 13300736)\n",
      "29 Write to hdf5s/musdb18/sr=44100,chn=2/train/Fergessen - Nos Palpitants.h5, (2, 8741888)\n",
      "24 Write to hdf5s/musdb18/sr=44100,chn=2/train/Dark Ride - Burning Bridges.h5, (2, 10260480)\n",
      "30 Write to hdf5s/musdb18/sr=44100,chn=2/train/Fergessen - The Wind.h5, (2, 8459264)\n",
      "27 Write to hdf5s/musdb18/sr=44100,chn=2/train/Faces On Film - Waiting For Ga.h5, (2, 11353088)\n",
      "16 Write to hdf5s/musdb18/sr=44100,chn=2/train/Black Bloc - If You Want Success.h5, (2, 17575936)\n"
     ]
    },
    {
     "name": "stderr",
     "output_type": "stream",
     "text": [
      " 17%|█▋        | 17/100 [01:30<06:15,  4.52s/it]"
     ]
    },
    {
     "name": "stdout",
     "output_type": "stream",
     "text": [
      "23 Write to hdf5s/musdb18/sr=44100,chn=2/train/Creepoid - OldTree.h5, (2, 13319168)\n",
      "22 Write to hdf5s/musdb18/sr=44100,chn=2/train/Cnoc An Tursa - Bannockburn.h5, (2, 12988416)\n"
     ]
    },
    {
     "name": "stderr",
     "output_type": "stream",
     "text": [
      " 23%|██▎       | 23/100 [01:32<03:29,  2.72s/it]"
     ]
    },
    {
     "name": "stdout",
     "output_type": "stream",
     "text": [
      "25 Write to hdf5s/musdb18/sr=44100,chn=2/train/Dreamers Of The Ghetto - Heavy Love.h5, (2, 13000704)\n"
     ]
    },
    {
     "name": "stderr",
     "output_type": "stream",
     "text": [
      " 26%|██▌       | 26/100 [01:33<02:38,  2.14s/it]"
     ]
    },
    {
     "name": "stdout",
     "output_type": "stream",
     "text": [
      "26 Write to hdf5s/musdb18/sr=44100,chn=2/train/Drumtracks - Ghost Bitch.h5, (2, 15739904)\n"
     ]
    },
    {
     "name": "stderr",
     "output_type": "stream",
     "text": [
      " 27%|██▋       | 27/100 [01:34<02:33,  2.10s/it]"
     ]
    },
    {
     "name": "stdout",
     "output_type": "stream",
     "text": [
      "31 Write to hdf5s/musdb18/sr=44100,chn=2/train/Flags - 54.h5, (2, 13898752)\n"
     ]
    },
    {
     "name": "stderr",
     "output_type": "stream",
     "text": [
      " 32%|███▏      | 32/100 [01:38<01:42,  1.51s/it]"
     ]
    },
    {
     "name": "stdout",
     "output_type": "stream",
     "text": [
      "32 Write to hdf5s/musdb18/sr=44100,chn=2/train/Giselle - Moss.h5, (2, 8895488)\n"
     ]
    },
    {
     "name": "stderr",
     "output_type": "stream",
     "text": [
      " 33%|███▎      | 33/100 [01:41<01:50,  1.65s/it]"
     ]
    },
    {
     "name": "stdout",
     "output_type": "stream",
     "text": [
      "33 Write to hdf5s/musdb18/sr=44100,chn=2/train/Grants - PunchDrunk.h5, (2, 9014272)\n"
     ]
    },
    {
     "name": "stderr",
     "output_type": "stream",
     "text": [
      " 34%|███▍      | 34/100 [01:41<01:37,  1.48s/it]"
     ]
    },
    {
     "name": "stdout",
     "output_type": "stream",
     "text": [
      "34 Write to hdf5s/musdb18/sr=44100,chn=2/train/Helado Negro - Mitad Del Mundo.h5, (2, 8011776)\n"
     ]
    },
    {
     "name": "stderr",
     "output_type": "stream",
     "text": [
      " 35%|███▌      | 35/100 [01:45<02:08,  1.97s/it]"
     ]
    },
    {
     "name": "stdout",
     "output_type": "stream",
     "text": [
      "36 Write to hdf5s/musdb18/sr=44100,chn=2/train/Hollow Ground - Left Blind.h5, (2, 7016448)\n",
      "35 Write to hdf5s/musdb18/sr=44100,chn=2/train/Hezekiah Jones - Borrowed Heart.h5, (2, 10645504)\n"
     ]
    },
    {
     "name": "stderr",
     "output_type": "stream",
     "text": [
      " 36%|███▌      | 36/100 [02:08<06:08,  5.75s/it]"
     ]
    },
    {
     "name": "stdout",
     "output_type": "stream",
     "text": [
      "46 Write to hdf5s/musdb18/sr=44100,chn=2/train/Jokers, Jacks & Kings - Sea Of Leaves.h5, (2, 8443904)\n",
      "38 Write to hdf5s/musdb18/sr=44100,chn=2/train/Invisible Familiars - Disturbing Wildlife.h5, (2, 9635840)\n",
      "39 Write to hdf5s/musdb18/sr=44100,chn=2/train/James May - All Souls Moon.h5, (2, 9739264)\n",
      "51 Write to hdf5s/musdb18/sr=44100,chn=2/train/Matthew Entwistle - Dont You Ever.h5, (2, 5019648)\n",
      "49 Write to hdf5s/musdb18/sr=44100,chn=2/train/Leaf - Wicked.h5, (2, 8407040)\n",
      "40 Write to hdf5s/musdb18/sr=44100,chn=2/train/James May - Dont Let Go.h5, (2, 10670080)\n",
      "42 Write to hdf5s/musdb18/sr=44100,chn=2/train/James May - On The Line.h5, (2, 11293696)\n",
      "45 Write to hdf5s/musdb18/sr=44100,chn=2/train/Johnny Lokke - Whisper To A Scream.h5, (2, 11259904)\n",
      "47 Write to hdf5s/musdb18/sr=44100,chn=2/train/Leaf - Come Around.h5, (2, 11659264)\n",
      "37 Write to hdf5s/musdb18/sr=44100,chn=2/train/Hop Along - Sister Cities.h5, (2, 12490752)\n"
     ]
    },
    {
     "name": "stderr",
     "output_type": "stream",
     "text": [
      " 38%|███▊      | 38/100 [02:20<05:59,  5.80s/it]"
     ]
    },
    {
     "name": "stdout",
     "output_type": "stream",
     "text": [
      "41 Write to hdf5s/musdb18/sr=44100,chn=2/train/James May - If You Say.h5, (2, 11392000)\n",
      "48 Write to hdf5s/musdb18/sr=44100,chn=2/train/Leaf - Summerghost.h5, (2, 10222592)43 Write to hdf5s/musdb18/sr=44100,chn=2/train/Jay Menon - Through My Eyes.h5, (2, 11164672)\n",
      "\n",
      "44 Write to hdf5s/musdb18/sr=44100,chn=2/train/Johnny Lokke - Promises & Lies.h5, (2, 12604416)\n"
     ]
    },
    {
     "name": "stderr",
     "output_type": "stream",
     "text": [
      " 45%|████▌     | 45/100 [02:21<02:01,  2.20s/it]"
     ]
    },
    {
     "name": "stdout",
     "output_type": "stream",
     "text": [
      "54 Write to hdf5s/musdb18/sr=44100,chn=2/train/Music Delta - 80s Rock.h5, (2, 1619968)\n",
      "58 Write to hdf5s/musdb18/sr=44100,chn=2/train/Music Delta - Country2.h5, (2, 761856)\n",
      "55 Write to hdf5s/musdb18/sr=44100,chn=2/train/Music Delta - Beatles.h5, (2, 1595392)\n",
      "57 Write to hdf5s/musdb18/sr=44100,chn=2/train/Music Delta - Country1.h5, (2, 1523712)\n",
      "56 Write to hdf5s/musdb18/sr=44100,chn=2/train/Music Delta - Britpop.h5, (2, 1613824)\n",
      "65 Write to hdf5s/musdb18/sr=44100,chn=2/train/Music Delta - Rock.h5, (2, 569344)\n",
      "62 Write to hdf5s/musdb18/sr=44100,chn=2/train/Music Delta - Hendrix.h5, (2, 866304)\n",
      "64 Write to hdf5s/musdb18/sr=44100,chn=2/train/Music Delta - Reggae.h5, (2, 761856)\n",
      "66 Write to hdf5s/musdb18/sr=44100,chn=2/train/Music Delta - Rockabilly.h5, (2, 1135616)\n",
      "63 Write to hdf5s/musdb18/sr=44100,chn=2/train/Music Delta - Punk.h5, (2, 1260544)\n",
      "61 Write to hdf5s/musdb18/sr=44100,chn=2/train/Music Delta - Grunge.h5, (2, 1837056)\n",
      "60 Write to hdf5s/musdb18/sr=44100,chn=2/train/Music Delta - Gospel.h5, (2, 3332096)\n",
      "59 Write to hdf5s/musdb18/sr=44100,chn=2/train/Music Delta - Disco.h5, (2, 5494784)\n",
      "52 Write to hdf5s/musdb18/sr=44100,chn=2/train/Meaxic - Take A Step.h5, (2, 12459008)\n",
      "67 Write to hdf5s/musdb18/sr=44100,chn=2/train/Night Panther - Fire.h5, (2, 9384960)\n",
      "73 Write to hdf5s/musdb18/sr=44100,chn=2/train/Remember December - C U Next Time.h5, (2, 10695680)\n",
      "71 Write to hdf5s/musdb18/sr=44100,chn=2/train/Phre The Eon - Everybody's Falling Apart.h5, (2, 9888768)\n",
      "68 Write to hdf5s/musdb18/sr=44100,chn=2/train/North To Alaska - All The Same.h5, (2, 10935296)\n",
      "69 Write to hdf5s/musdb18/sr=44100,chn=2/train/Patrick Talbot - A Reason To Leave.h5, (2, 11446272)\n",
      "77 Write to hdf5s/musdb18/sr=44100,chn=2/train/Snowmine - Curfews.h5, (2, 12128256)70 Write to hdf5s/musdb18/sr=44100,chn=2/train/Patrick Talbot - Set Me Free.h5, (2, 12779520)\n",
      "\n",
      "72 Write to hdf5s/musdb18/sr=44100,chn=2/train/Port St Willow - Stay Even.h5, (2, 13972480)\n",
      "50 Write to hdf5s/musdb18/sr=44100,chn=2/train/Lushlife - Toynbee Suite.h5, (2, 27711488)\n"
     ]
    },
    {
     "name": "stderr",
     "output_type": "stream",
     "text": [
      " 51%|█████     | 51/100 [03:16<04:19,  5.29s/it]"
     ]
    },
    {
     "name": "stdout",
     "output_type": "stream",
     "text": [
      "78 Write to hdf5s/musdb18/sr=44100,chn=2/train/Spike Mullings - Mike's Sulking.h5, (2, 11320320)\n",
      "53 Write to hdf5s/musdb18/sr=44100,chn=2/train/Meaxic - You Listen.h5, (2, 18192384)\n"
     ]
    },
    {
     "name": "stderr",
     "output_type": "stream",
     "text": [
      " 54%|█████▍    | 54/100 [03:17<03:10,  4.13s/it]"
     ]
    },
    {
     "name": "stdout",
     "output_type": "stream",
     "text": [
      "76 Write to hdf5s/musdb18/sr=44100,chn=2/train/Skelpolu - Together Alone.h5, (2, 14368768)\n",
      "79 Write to hdf5s/musdb18/sr=44100,chn=2/train/St Vitus - Word Gets Around.h5, (2, 10893312)\n",
      "75 Write to hdf5s/musdb18/sr=44100,chn=2/train/Skelpolu - Human Mistakes.h5, (2, 14310400)\n",
      "74 Write to hdf5s/musdb18/sr=44100,chn=2/train/Secret Mountains - High Horse.h5, (2, 15669248)\n"
     ]
    },
    {
     "name": "stderr",
     "output_type": "stream",
     "text": [
      " 75%|███████▌  | 75/100 [03:23<00:34,  1.40s/it]"
     ]
    },
    {
     "name": "stdout",
     "output_type": "stream",
     "text": [
      "80 Write to hdf5s/musdb18/sr=44100,chn=2/train/Steven Clark - Bounty.h5, (2, 12756992)\n"
     ]
    },
    {
     "name": "stderr",
     "output_type": "stream",
     "text": [
      " 81%|████████  | 81/100 [03:23<00:20,  1.10s/it]"
     ]
    },
    {
     "name": "stdout",
     "output_type": "stream",
     "text": [
      "81 Write to hdf5s/musdb18/sr=44100,chn=2/train/Strand Of Oaks - Spacestation.h5, (2, 10745856)\n"
     ]
    },
    {
     "name": "stderr",
     "output_type": "stream",
     "text": [
      " 82%|████████▏ | 82/100 [03:29<00:23,  1.32s/it]"
     ]
    },
    {
     "name": "stdout",
     "output_type": "stream",
     "text": [
      "87 Write to hdf5s/musdb18/sr=44100,chn=2/train/The So So Glos - Emergency.h5, (2, 7356416)\n",
      "88 Write to hdf5s/musdb18/sr=44100,chn=2/train/The Wrong'Uns - Rothko.h5, (2, 8914944)\n",
      "84 Write to hdf5s/musdb18/sr=44100,chn=2/train/The Districts - Vermont.h5, (2, 10053632)\n",
      "94 Write to hdf5s/musdb18/sr=44100,chn=2/train/Triviul - Dorothy.h5, (2, 8262656)\n",
      "93 Write to hdf5s/musdb18/sr=44100,chn=2/train/Triviul - Angelsaint.h5, (2, 10438656)\n",
      "89 Write to hdf5s/musdb18/sr=44100,chn=2/train/Tim Taler - Stalker.h5, (2, 10479616)\n",
      "95 Write to hdf5s/musdb18/sr=44100,chn=2/train/Voelund - Comfort Lives In Belief.h5, (2, 9256960)\n",
      "98 Write to hdf5s/musdb18/sr=44100,chn=2/train/Young Griffo - Facade.h5, (2, 7402496)\n",
      "90 Write to hdf5s/musdb18/sr=44100,chn=2/train/Titanium - Haunted Age.h5, (2, 10941440)\n",
      "85 Write to hdf5s/musdb18/sr=44100,chn=2/train/The Long Wait - Back Home To Blue.h5, (2, 11486208)\n",
      "96 Write to hdf5s/musdb18/sr=44100,chn=2/train/Wall Of Death - Femme.h5, (2, 10536960)\n",
      "97 Write to hdf5s/musdb18/sr=44100,chn=2/train/Young Griffo - Blood To Bone.h5, (2, 11218944)\n",
      "86 Write to hdf5s/musdb18/sr=44100,chn=2/train/The Scarlet Brand - Les Fleurs Du Mal.h5, (2, 13381632)\n",
      "83 Write to hdf5s/musdb18/sr=44100,chn=2/train/Swinging Steaks - Lost My Way.h5, (2, 13669376)\n",
      "82 Write to hdf5s/musdb18/sr=44100,chn=2/train/Sweet Lights - You Let Me Down.h5, (2, 17277952)\n"
     ]
    },
    {
     "name": "stderr",
     "output_type": "stream",
     "text": [
      " 83%|████████▎ | 83/100 [05:01<02:06,  7.44s/it]"
     ]
    },
    {
     "name": "stdout",
     "output_type": "stream",
     "text": [
      "91 Write to hdf5s/musdb18/sr=44100,chn=2/train/Traffic Experiment - Once More (With Feeling).h5, (2, 19186688)\n"
     ]
    },
    {
     "name": "stderr",
     "output_type": "stream",
     "text": [
      " 92%|█████████▏| 92/100 [05:07<00:34,  4.29s/it]"
     ]
    },
    {
     "name": "stdout",
     "output_type": "stream",
     "text": [
      "92 Write to hdf5s/musdb18/sr=44100,chn=2/train/Traffic Experiment - Sirens.h5, (2, 18578432)\n"
     ]
    },
    {
     "name": "stderr",
     "output_type": "stream",
     "text": [
      " 93%|█████████▎| 93/100 [05:07<00:28,  4.02s/it]"
     ]
    },
    {
     "name": "stdout",
     "output_type": "stream",
     "text": [
      "99 Write to hdf5s/musdb18/sr=44100,chn=2/train/Young Griffo - Pennies.h5, (2, 12251136)\n"
     ]
    },
    {
     "name": "stderr",
     "output_type": "stream",
     "text": [
      "100%|██████████| 100/100 [05:08<00:00,  3.09s/it]"
     ]
    },
    {
     "name": "stdout",
     "output_type": "stream",
     "text": [
      "Pack hdf5 time: 308.941 s\n"
     ]
    },
    {
     "name": "stderr",
     "output_type": "stream",
     "text": [
      "\n"
     ]
    }
   ],
   "source": [
    "SAMPLE_RATE=44100\n",
    "CHANNELS=2\n",
    "\n",
    "dataset_dir = \"../datasets/musdb18\"\n",
    "subset=\"train\"\n",
    "split=\"\"\n",
    "hdf5s_dir=f\"hdf5s/musdb18/sr={SAMPLE_RATE},chn={CHANNELS}/train\"\n",
    "sample_rate=SAMPLE_RATE\n",
    "channels = CHANNELS\n",
    "\n",
    "\n",
    "mono = True if channels == 1 else False\n",
    "source_types = SOURCE_TYPES\n",
    "resample_type = \"kaiser_fast\"\n",
    "\n",
    "# Paths\n",
    "os.makedirs(hdf5s_dir, exist_ok=True)\n",
    "\n",
    "# Dataset of corresponding subset and split.\n",
    "mus = musdb.DB(root=dataset_dir, subsets=[subset], split=split)\n",
    "print(\"Subset: {}, Split: {}, Total pieces: {}\".format(subset, split, len(mus)))\n",
    "\n",
    "params = []  # A list of params for multiple processing.\n",
    "\n",
    "for track_index in range(len(mus.tracks)):\n",
    "\n",
    "    param = (\n",
    "        dataset_dir,\n",
    "        subset,\n",
    "        split,\n",
    "        track_index,\n",
    "        source_types,\n",
    "        mono,\n",
    "        sample_rate,\n",
    "        resample_type,\n",
    "        hdf5s_dir,\n",
    "    )\n",
    "\n",
    "    params.append(param)\n",
    "\n",
    "# Uncomment for debug.\n",
    "# write_single_audio_to_hdf5(params[0])\n",
    "# os._exit(0)\n",
    "\n",
    "pack_hdf5s_time = time.time()\n",
    "\n",
    "# with ProcessPoolExecutor(max_workers=None) as pool:\n",
    "#     # Maximum works on the machine\n",
    "#     pool.map(write_single_audio_to_hdf5, params)\n",
    "\n",
    "with ProcessPoolExecutor(max_workers=None) as pool:\n",
    "    # Initialize tqdm progress bar with total equal to the length of params\n",
    "    for _ in tqdm(pool.map(write_single_audio_to_hdf5, params), total=len(params)):\n",
    "        pass\n",
    "\n",
    "print(\"Pack hdf5 time: {:.3f} s\".format(time.time() - pack_hdf5s_time))"
   ]
  },
  {
   "cell_type": "code",
   "execution_count": null,
   "metadata": {},
   "outputs": [],
   "source": []
  }
 ],
 "metadata": {
  "kernelspec": {
   "display_name": "master_project",
   "language": "python",
   "name": "python3"
  },
  "language_info": {
   "codemirror_mode": {
    "name": "ipython",
    "version": 3
   },
   "file_extension": ".py",
   "mimetype": "text/x-python",
   "name": "python",
   "nbconvert_exporter": "python",
   "pygments_lexer": "ipython3",
   "version": "3.10.13"
  }
 },
 "nbformat": 4,
 "nbformat_minor": 2
}
